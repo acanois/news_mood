{
 "cells": [
  {
   "cell_type": "markdown",
   "metadata": {},
   "source": [
    "## News Mood\n",
    "This project analyzes the last five hundred tweets of five major news oulets: BBC World, CBS, CNN, Fox News, and The New York Times. It uses the [Vader Sentiment Analyzer](https://github.com/cjhutto/vaderSentiment), [Tweepy](https://github.com/tweepy/tweepy), [Pandas](https://pandas.pydata.org/), and [Matplotlib](https://matplotlib.org/).\n",
    "\n",
    "The project contains two helper functions which are defined in \"process_tweets.py\". Vader analysis is declared and initialized in that file."
   ]
  },
  {
   "cell_type": "code",
   "execution_count": 1,
   "metadata": {},
   "outputs": [],
   "source": [
    "import config as cfg\n",
    "import process_tweets as pt\n",
    "\n",
    "import datetime\n",
    "import os\n",
    "import json\n",
    "\n",
    "import tweepy\n",
    "\n",
    "import numpy as np\n",
    "import pandas as pd\n",
    "import matplotlib.pyplot as plt\n",
    "import matplotlib.patches as pch\n",
    "import seaborn as sns"
   ]
  },
  {
   "cell_type": "markdown",
   "metadata": {},
   "source": [
    "### Initialize Tweepy"
   ]
  },
  {
   "cell_type": "code",
   "execution_count": 2,
   "metadata": {},
   "outputs": [],
   "source": [
    "auth = tweepy.OAuthHandler(cfg.API_KEY, cfg.API_SECRET)\n",
    "auth.set_access_token(cfg.ACCESS_TOKEN, cfg.ACCESS_TOKEN_SECRET)\n",
    "api = tweepy.API(auth, parser=tweepy.parsers.JSONParser()) "
   ]
  },
  {
   "cell_type": "markdown",
   "metadata": {},
   "source": [
    "### Initialize the DataFrame\n",
    "This creates the structure of the data frame and then sets the order of the columns."
   ]
  },
  {
   "cell_type": "code",
   "execution_count": 3,
   "metadata": {},
   "outputs": [],
   "source": [
    "tweet_df = pd.DataFrame({\n",
    "    'Source': '',\n",
    "    'Text': '',\n",
    "    'Date': '',\n",
    "    'Sent.Compound': '',\n",
    "    'Sent.Positive': '',\n",
    "    'Sent.Neutral': '',\n",
    "    'Sent.Negative': ''\n",
    "}, index=[0])\n",
    "\n",
    "tweet_df = tweet_df[['Source', 'Text', 'Date', 'Sent.Compound', 'Sent.Positive', 'Sent.Neutral', 'Sent.Negative']]"
   ]
  },
  {
   "cell_type": "markdown",
   "metadata": {},
   "source": [
    "### Get All the Tweets\n",
    "This cell loops through the users and then calls retrieve_tweets from the \"process_tweets.py\" file. All writing to the data frame is handled inside that file."
   ]
  },
  {
   "cell_type": "code",
   "execution_count": 4,
   "metadata": {},
   "outputs": [],
   "source": [
    "users = ['BBCWorld', 'CBSNews', 'CNN', 'FoxNews', 'nytimes']\n",
    "\n",
    "for user in users:\n",
    "    write_rows = [0, 100, 200, 300, 400]\n",
    "    user_name = '@' + user\n",
    "    pt.retrieve_tweets(api, user_name, user, tweet_df, write_rows[users.index(user)])"
   ]
  },
  {
   "cell_type": "markdown",
   "metadata": {},
   "source": [
    "### Write the Data Frame to a CSV"
   ]
  },
  {
   "cell_type": "code",
   "execution_count": 5,
   "metadata": {},
   "outputs": [],
   "source": [
    "tweet_df.to_csv(os.path.join('csv', 'twitter_moods.csv'))"
   ]
  },
  {
   "cell_type": "code",
   "execution_count": 36,
   "metadata": {},
   "outputs": [
    {
     "data": {
      "text/html": [
       "<div>\n",
       "<style scoped>\n",
       "    .dataframe tbody tr th:only-of-type {\n",
       "        vertical-align: middle;\n",
       "    }\n",
       "\n",
       "    .dataframe tbody tr th {\n",
       "        vertical-align: top;\n",
       "    }\n",
       "\n",
       "    .dataframe thead th {\n",
       "        text-align: right;\n",
       "    }\n",
       "</style>\n",
       "<table border=\"1\" class=\"dataframe\">\n",
       "  <thead>\n",
       "    <tr style=\"text-align: right;\">\n",
       "      <th></th>\n",
       "      <th>Source</th>\n",
       "      <th>Text</th>\n",
       "      <th>Date</th>\n",
       "      <th>Sent.Compound</th>\n",
       "      <th>Sent.Positive</th>\n",
       "      <th>Sent.Neutral</th>\n",
       "      <th>Sent.Negative</th>\n",
       "    </tr>\n",
       "  </thead>\n",
       "  <tbody>\n",
       "    <tr>\n",
       "      <th>0</th>\n",
       "      <td>@BBCWorld</td>\n",
       "      <td>Rhino census begins in India's Kaziranga Natio...</td>\n",
       "      <td>Mon Mar 26 15:38:13 +0000 2018</td>\n",
       "      <td>0</td>\n",
       "      <td>0</td>\n",
       "      <td>1</td>\n",
       "      <td>0</td>\n",
       "    </tr>\n",
       "    <tr>\n",
       "      <th>1</th>\n",
       "      <td>@BBCWorld</td>\n",
       "      <td>Facebook faces Federal Trade Commission privac...</td>\n",
       "      <td>Mon Mar 26 15:38:13 +0000 2018</td>\n",
       "      <td>0</td>\n",
       "      <td>0</td>\n",
       "      <td>1</td>\n",
       "      <td>0</td>\n",
       "    </tr>\n",
       "    <tr>\n",
       "      <th>2</th>\n",
       "      <td>@BBCWorld</td>\n",
       "      <td>José Filomeno dos Santos named suspect in $500...</td>\n",
       "      <td>Mon Mar 26 15:21:15 +0000 2018</td>\n",
       "      <td>-0.7184</td>\n",
       "      <td>0</td>\n",
       "      <td>0.6</td>\n",
       "      <td>0.4</td>\n",
       "    </tr>\n",
       "    <tr>\n",
       "      <th>3</th>\n",
       "      <td>@BBCWorld</td>\n",
       "      <td>RT @BBCNews: UK PM Theresa May says 18 countri...</td>\n",
       "      <td>Mon Mar 26 15:17:51 +0000 2018</td>\n",
       "      <td>0.0516</td>\n",
       "      <td>0.115</td>\n",
       "      <td>0.778</td>\n",
       "      <td>0.107</td>\n",
       "    </tr>\n",
       "    <tr>\n",
       "      <th>4</th>\n",
       "      <td>@BBCWorld</td>\n",
       "      <td>Marvia Malik - Pakistan TV airs first transgen...</td>\n",
       "      <td>Mon Mar 26 15:12:30 +0000 2018</td>\n",
       "      <td>0</td>\n",
       "      <td>0</td>\n",
       "      <td>1</td>\n",
       "      <td>0</td>\n",
       "    </tr>\n",
       "  </tbody>\n",
       "</table>\n",
       "</div>"
      ],
      "text/plain": [
       "      Source                                               Text  \\\n",
       "0  @BBCWorld  Rhino census begins in India's Kaziranga Natio...   \n",
       "1  @BBCWorld  Facebook faces Federal Trade Commission privac...   \n",
       "2  @BBCWorld  José Filomeno dos Santos named suspect in $500...   \n",
       "3  @BBCWorld  RT @BBCNews: UK PM Theresa May says 18 countri...   \n",
       "4  @BBCWorld  Marvia Malik - Pakistan TV airs first transgen...   \n",
       "\n",
       "                             Date Sent.Compound Sent.Positive Sent.Neutral  \\\n",
       "0  Mon Mar 26 15:38:13 +0000 2018             0             0            1   \n",
       "1  Mon Mar 26 15:38:13 +0000 2018             0             0            1   \n",
       "2  Mon Mar 26 15:21:15 +0000 2018       -0.7184             0          0.6   \n",
       "3  Mon Mar 26 15:17:51 +0000 2018        0.0516         0.115        0.778   \n",
       "4  Mon Mar 26 15:12:30 +0000 2018             0             0            1   \n",
       "\n",
       "  Sent.Negative  \n",
       "0             0  \n",
       "1             0  \n",
       "2           0.4  \n",
       "3         0.107  \n",
       "4             0  "
      ]
     },
     "execution_count": 36,
     "metadata": {},
     "output_type": "execute_result"
    }
   ],
   "source": [
    "tweet_df.head()"
   ]
  },
  {
   "cell_type": "markdown",
   "metadata": {},
   "source": [
    "### Bar Chart \n",
    "Each bar represents each outlet's average score over the last five hundred tweets. The goal is to chart whether they were positive, negative, or neutral overall."
   ]
  },
  {
   "cell_type": "code",
   "execution_count": 44,
   "metadata": {},
   "outputs": [],
   "source": [
    "bbc_df = tweet_df.loc[tweet_df['Source'] == '@BBCWorld']\n",
    "cbs_df = tweet_df.loc[tweet_df['Source'] == '@CBSNews']\n",
    "cnn_df = tweet_df.loc[tweet_df['Source'] == '@CNN']\n",
    "fox_df = tweet_df.loc[tweet_df['Source'] == '@FoxNews']\n",
    "nyt_df = tweet_df.loc[tweet_df['Source'] == '@nytimes']\n",
    "\n",
    "bbc_avg = bbc_df['Sent.Compound'].mean()\n",
    "cbs_avg = cbs_df['Sent.Compound'].mean()\n",
    "cnn_avg = cnn_df['Sent.Compound'].mean()\n",
    "fox_avg = fox_df['Sent.Compound'].mean()\n",
    "nyt_avg = nyt_df['Sent.Compound'].mean()"
   ]
  },
  {
   "cell_type": "code",
   "execution_count": 60,
   "metadata": {},
   "outputs": [
    {
     "data": {
      "text/plain": [
       "(-1.0, 1.0)"
      ]
     },
     "execution_count": 60,
     "metadata": {},
     "output_type": "execute_result"
    },
    {
     "data": {
      "image/png": "[encoded data removed]",
      "text/plain": [
       "<matplotlib.figure.Figure at 0x110b02390>"
      ]
     },
     "metadata": {},
     "output_type": "display_data"
    }
   ],
   "source": [
    "fig, ax = plt.subplots(figsize=(10, 8))\n",
    "ax = sns.barplot(users, [bbc_avg, cbs_avg, cnn_avg, fox_avg, nyt_avg])\n",
    "ax.set_title('Overall Media Sentiment Based on Twitter {}/{}/{}'.format(now.month, now.day, now.year))\n",
    "ax.set_ylim(-1.0, 1.0)"
   ]
  },
  {
   "cell_type": "code",
   "execution_count": null,
   "metadata": {},
   "outputs": [],
   "source": []
  }
 ],
 "metadata": {
  "kernelspec": {
   "display_name": "Python [conda env:ds3]",
   "language": "python",
   "name": "conda-env-ds3-py"
  },
  "language_info": {
   "codemirror_mode": {
    "name": "ipython",
    "version": 3
   },
   "file_extension": ".py",
   "mimetype": "text/x-python",
   "name": "python",
   "nbconvert_exporter": "python",
   "pygments_lexer": "ipython3",
   "version": "3.6.3"
  }
 },
 "nbformat": 4,
 "nbformat_minor": 2
}
