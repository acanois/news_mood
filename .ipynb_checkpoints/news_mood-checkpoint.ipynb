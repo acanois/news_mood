{
 "cells": [
  {
   "cell_type": "code",
   "execution_count": 21,
   "metadata": {},
   "outputs": [],
   "source": [
    "import config as cfg\n",
    "import os\n",
    "import json\n",
    "import tweepy\n",
    "import matplotlib.pyplot as plt\n",
    "import matplotlib.patches as pch\n",
    "import pandas as pd"
   ]
  },
  {
   "cell_type": "code",
   "execution_count": 2,
   "metadata": {},
   "outputs": [],
   "source": [
    "from vaderSentiment.vaderSentiment import SentimentIntensityAnalyzer\n",
    "analyzer = SentimentIntensityAnalyzer()"
   ]
  },
  {
   "cell_type": "code",
   "execution_count": 3,
   "metadata": {},
   "outputs": [],
   "source": [
    "# Tweepy Authentication\n",
    "auth = tweepy.OAuthHandler(cfg.API_KEY, cfg.API_SECRET)\n",
    "auth.set_access_token(cfg.ACCESS_TOKEN, cfg.ACCESS_TOKEN_SECRET)\n",
    "api = tweepy.API(auth, parser=tweepy.parsers.JSONParser()) "
   ]
  },
  {
   "cell_type": "code",
   "execution_count": 4,
   "metadata": {},
   "outputs": [],
   "source": [
    "users = ['BBCWorld', 'CBSNews', 'CNN', 'FoxNews', 'nytimes']\n",
    "\n",
    "sources = []\n",
    "texts = []\n",
    "dates = []\n",
    "\n",
    "tweet_df = pd.DataFrame({\n",
    "    'Source': '',\n",
    "    'Text': '',\n",
    "    'Date': '',\n",
    "    'Sent.Compound': '',\n",
    "    'Sent.Positive': '',\n",
    "    'Sent.Neutral': '',\n",
    "    'Sent.Negative': ''\n",
    "}, index=[0])\n",
    "tweet_df = tweet_df[['Source', 'Text', 'Date', 'Sent.Compound', 'Sent.Positive', 'Sent.Neutral', 'Sent.Negative']]"
   ]
  },
  {
   "cell_type": "code",
   "execution_count": 5,
   "metadata": {},
   "outputs": [],
   "source": [
    "def retrieve_tweets(api, user, file_name, write_row):\n",
    "    for curr_page in range(5):\n",
    "\n",
    "        tweets = api.user_timeline(user, page=curr_page)\n",
    "        for tweet in tweets:\n",
    "            if user[1:] == users[0]:\n",
    "                sent_score = analyzer.polarity_scores(tweet['text'])\n",
    "                tweet_df.loc[write_row, 'Source'] = user\n",
    "                tweet_df.loc[write_row, 'Text'] = tweet['text']\n",
    "                tweet_df.loc[write_row, 'Date'] = tweet['created_at'] \n",
    "                tweet_df.loc[write_row, 'Sent.Compound'] = sent_score['compound']\n",
    "                tweet_df.loc[write_row, 'Sent.Positive'] = sent_score['pos']\n",
    "                tweet_df.loc[write_row, 'Sent.Neutral'] = sent_score['neu']\n",
    "                tweet_df.loc[write_row, 'Sent.Negative'] = sent_score['neg']\n",
    "                write_row += 1\n",
    "            if user[1:] == users[1]:\n",
    "                sent_score = analyzer.polarity_scores(tweet['text'])\n",
    "                tweet_df.loc[write_row, 'Source'] = user\n",
    "                tweet_df.loc[write_row, 'Text'] = tweet['text']\n",
    "                tweet_df.loc[write_row, 'Date'] = tweet['created_at'] \n",
    "                tweet_df.loc[write_row, 'Sent.Compound'] = sent_score['compound']\n",
    "                tweet_df.loc[write_row, 'Sent.Positive'] = sent_score['pos']\n",
    "                tweet_df.loc[write_row, 'Sent.Neutral'] = sent_score['neu']\n",
    "                tweet_df.loc[write_row, 'Sent.Negative'] = sent_score['neg']\n",
    "                write_row += 1\n",
    "            if user[1:] == users[2]:\n",
    "                sent_score = analyzer.polarity_scores(tweet['text'])\n",
    "                tweet_df.loc[write_row, 'Source'] = user\n",
    "                tweet_df.loc[write_row, 'Text'] = tweet['text']\n",
    "                tweet_df.loc[write_row, 'Date'] = tweet['created_at'] \n",
    "                tweet_df.loc[write_row, 'Sent.Compound'] = sent_score['compound']\n",
    "                tweet_df.loc[write_row, 'Sent.Positive'] = sent_score['pos']\n",
    "                tweet_df.loc[write_row, 'Sent.Neutral'] = sent_score['neu']\n",
    "                tweet_df.loc[write_row, 'Sent.Negative'] = sent_score['neg']\n",
    "                write_row += 1\n",
    "            if user[1:] == users[3]:\n",
    "                sent_score = analyzer.polarity_scores(tweet['text'])\n",
    "                tweet_df.loc[write_row, 'Source'] = user\n",
    "                tweet_df.loc[write_row, 'Text'] = tweet['text']\n",
    "                tweet_df.loc[write_row, 'Date'] = tweet['created_at'] \n",
    "                tweet_df.loc[write_row, 'Sent.Compound'] = sent_score['compound']\n",
    "                tweet_df.loc[write_row, 'Sent.Positive'] = sent_score['pos']\n",
    "                tweet_df.loc[write_row, 'Sent.Neutral'] = sent_score['neu']\n",
    "                tweet_df.loc[write_row, 'Sent.Negative'] = sent_score['neg']\n",
    "                write_row += 1\n",
    "            if user[1:] == users[4]:\n",
    "                sent_score = analyzer.polarity_scores(tweet['text'])\n",
    "                tweet_df.loc[write_row, 'Source'] = user\n",
    "                tweet_df.loc[write_row, 'Text'] = tweet['text']\n",
    "                tweet_df.loc[write_row, 'Date'] = tweet['created_at'] \n",
    "                tweet_df.loc[write_row, 'Sent.Compound'] = sent_score['compound']\n",
    "                tweet_df.loc[write_row, 'Sent.Positive'] = sent_score['pos']\n",
    "                tweet_df.loc[write_row, 'Sent.Neutral'] = sent_score['neu']\n",
    "                tweet_df.loc[write_row, 'Sent.Negative'] = sent_score['neg']\n",
    "                write_row += 1"
   ]
  },
  {
   "cell_type": "code",
   "execution_count": 7,
   "metadata": {},
   "outputs": [],
   "source": [
    "for user in users:\n",
    "    write_rows = [0, 100, 200, 300, 400]\n",
    "    user_name = '@' + user\n",
    "    retrieve_tweets(api, user_name, user, write_rows[users.index(user)])"
   ]
  },
  {
   "cell_type": "code",
   "execution_count": 10,
   "metadata": {},
   "outputs": [],
   "source": [
    "tweet_df.to_csv(os.path.join('csv', 'twitter_moods.csv'))"
   ]
  },
  {
   "cell_type": "code",
   "execution_count": 24,
   "metadata": {},
   "outputs": [
    {
     "data": {
      "text/plain": [
       "<matplotlib.legend.Legend at 0x1151c10f0>"
      ]
     },
     "execution_count": 24,
     "metadata": {},
     "output_type": "execute_result"
    },
    {
     "data": {
      "image/png": "[encoded data removed]",
      "text/plain": [
       "<matplotlib.figure.Figure at 0x113eb81d0>"
      ]
     },
     "metadata": {},
     "output_type": "display_data"
    }
   ],
   "source": [
    "# Plots\n",
    "fix, ax1 = plt.subplots(figsize=(10, 8))\n",
    "ax1.set_xlabel('Number of Tweets')\n",
    "ax1.set_ylabel('Sentiment (Neg: -1.0, Pos: 1.0)')\n",
    "ax1.grid(True)\n",
    "ax1.plot(tweet_df['Sent.Compound'], 'bo')\n",
    "\n",
    "bbc = pch.Patch(color='red', label='BBC')\n",
    "cbs = pch.Patch(color='blue', label='CBS')\n",
    "cnn = pch.Patch(color='red', label='CNN')\n",
    "fox = pch.Patch(color='red', label='Fox')\n",
    "nyt = pch.Patch(color='red', label='NYT')\n",
    "ax1.legend(handles=[bbc, cbs, cnn, fox, nyt])"
   ]
  },
  {
   "cell_type": "code",
   "execution_count": null,
   "metadata": {},
   "outputs": [],
   "source": []
  }
 ],
 "metadata": {
  "kernelspec": {
   "display_name": "Python [conda env:ds3]",
   "language": "python",
   "name": "conda-env-ds3-py"
  },
  "language_info": {
   "codemirror_mode": {
    "name": "ipython",
    "version": 3
   },
   "file_extension": ".py",
   "mimetype": "text/x-python",
   "name": "python",
   "nbconvert_exporter": "python",
   "pygments_lexer": "ipython3",
   "version": "3.6.3"
  }
 },
 "nbformat": 4,
 "nbformat_minor": 2
}
